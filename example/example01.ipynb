{
 "cells": [
  {
   "cell_type": "markdown",
   "id": "84e3eeda",
   "metadata": {},
   "source": [
    "### 1. Take output of \"dctap\""
   ]
  },
  {
   "cell_type": "code",
   "execution_count": 1,
   "id": "7e9e3218",
   "metadata": {
    "ExecuteTime": {
     "end_time": "2022-05-21T14:49:57.461804Z",
     "start_time": "2022-05-21T14:49:57.451829Z"
    }
   },
   "outputs": [],
   "source": [
    "ap = {\n",
    "    \"namespaces\": {\n",
    "        \"ex\": \"http://ex.example/#\",\n",
    "        \"xsd\": \"http://www.w3.org/2001/XMLSchema#\",\n",
    "        \"school\": \"http://school.example/#\",\n",
    "        \"foaf\": \"http://xmlns.com/foaf/0.1/\"\n",
    "    },\n",
    "    \"shapes\": [\n",
    "        {\n",
    "            \"shapeID\": \"school:Enrollee\",\n",
    "            \"statement_templates\": [\n",
    "                {\n",
    "                    \"propertyID\": \"ex:hasGuardian\",\n",
    "                    \"valueNodeType\": \"iri\"\n",
    "                },\n",
    "                {\n",
    "                    \"propertyID\": \"foaf:age\",\n",
    "                    \"valueDataType\": \"xsd:integer\",\n",
    "                    \"min\": \"1\",\n",
    "                    \"max\": \"2\"\n",
    "                }\n",
    "            ],\n",
    "            \"MinInclusive\": \"13\",\n",
    "            \"MaxInclusive\": \"20\"\n",
    "        }\n",
    "    ]\n",
    "}"
   ]
  },
  {
   "cell_type": "markdown",
   "id": "7eb39253",
   "metadata": {},
   "source": [
    "### 2. Tweak this ShExC Jinja2 Template"
   ]
  },
  {
   "cell_type": "code",
   "execution_count": 2,
   "id": "66773849",
   "metadata": {
    "ExecuteTime": {
     "end_time": "2022-05-21T14:49:59.732637Z",
     "start_time": "2022-05-21T14:49:59.724936Z"
    }
   },
   "outputs": [],
   "source": [
    "shex_jinja = \"\"\"\n",
    "{%- for prefix, uri in namespaces.items() %}\n",
    "PREFIX {{prefix}}: <{{uri}}>\n",
    "{%- endfor %}\n",
    "BASE <http://purl.org/yama/example/mybook/v021/#>\n",
    "\n",
    "{%- for shape in shapes %}\n",
    "<{{shape.shapeID}}> {\n",
    "  {%- for statement in shape.statements%}\n",
    "  {{statement.property}} @<{{statement.statementID}}> { {{statement.minOccur}},{{statement.maxOccur}} };\n",
    "  {%- endfor %}\n",
    "}\n",
    "{%- endfor %}\n",
    "\"\"\""
   ]
  },
  {
   "cell_type": "markdown",
   "id": "f8eee19f",
   "metadata": {},
   "source": [
    "### 3. Then, in order to get the following ShExC output:\n",
    "\n",
    "```\n",
    "PREFIX ex: <http://ex.example/#>\n",
    "PREFIX xsd: <http://www.w3.org/2001/XMLSchema#>\n",
    "PREFIX school: <http://school.example/#>\n",
    "PREFIX foaf: <http://xmlns.com/foaf/0.1/>\n",
    "\n",
    "school:Enrollee {\n",
    "  foaf:age xsd:integer MinInclusive 13 MaxInclusive 20 ;\n",
    "  ex:hasGuardian IRI {1,2}\n",
    "}\n",
    "```"
   ]
  },
  {
   "cell_type": "markdown",
   "id": "5d059302",
   "metadata": {},
   "source": [
    "### 4. Render the ShExC Template with Jinja2"
   ]
  },
  {
   "cell_type": "code",
   "execution_count": 4,
   "id": "bc9d1c53",
   "metadata": {
    "ExecuteTime": {
     "end_time": "2022-05-21T14:50:27.512092Z",
     "start_time": "2022-05-21T14:50:27.488536Z"
    }
   },
   "outputs": [
    {
     "name": "stdout",
     "output_type": "stream",
     "text": [
      "\n",
      "PREFIX ex: <http://ex.example/#>\n",
      "PREFIX xsd: <http://www.w3.org/2001/XMLSchema#>\n",
      "PREFIX school: <http://school.example/#>\n",
      "PREFIX foaf: <http://xmlns.com/foaf/0.1/>\n",
      "BASE <http://purl.org/yama/example/mybook/v021/#>\n",
      "<school:Enrollee> {\n",
      "}\n"
     ]
    }
   ],
   "source": [
    "from jinja2 import Template\n",
    "template = Template(shex_jinja)\n",
    "shexc_output = template.render(ap)\n",
    "print(shexc_output)"
   ]
  },
  {
   "cell_type": "markdown",
   "id": "5e4642a8",
   "metadata": {},
   "source": [
    "### 5. Load the PyShExC library"
   ]
  },
  {
   "cell_type": "code",
   "execution_count": 5,
   "id": "9ecb4fb2",
   "metadata": {
    "ExecuteTime": {
     "end_time": "2022-05-21T14:50:34.370006Z",
     "start_time": "2022-05-21T14:50:34.005389Z"
    }
   },
   "outputs": [],
   "source": [
    "import pyshexc\n",
    "from pyshexc.parser_impl.generate_shexj import parse"
   ]
  },
  {
   "cell_type": "markdown",
   "id": "77d24f6e",
   "metadata": {},
   "source": [
    "### 6. Convert ShExC to ShExJ"
   ]
  },
  {
   "cell_type": "code",
   "execution_count": 6,
   "id": "c3d58ab8",
   "metadata": {
    "ExecuteTime": {
     "end_time": "2022-05-21T14:50:54.212224Z",
     "start_time": "2022-05-21T14:50:54.152069Z"
    }
   },
   "outputs": [
    {
     "name": "stdout",
     "output_type": "stream",
     "text": [
      "{\n",
      "    \"type\": \"Schema\",\n",
      "    \"shapes\": [\n",
      "        {\n",
      "            \"type\": \"Shape\",\n",
      "            \"id\": \"school:Enrollee\"\n",
      "        }\n",
      "    ]\n",
      "}\n"
     ]
    }
   ],
   "source": [
    "import json\n",
    "json_ap=parse(shexc_output)._as_json\n",
    "parsed = json.loads(json_ap)\n",
    "print(json.dumps(parsed, indent=4, sort_keys=False))"
   ]
  }
 ],
 "metadata": {
  "kernelspec": {
   "display_name": "dctapenv",
   "language": "python",
   "name": "dctapenv"
  },
  "language_info": {
   "codemirror_mode": {
    "name": "ipython",
    "version": 3
   },
   "file_extension": ".py",
   "mimetype": "text/x-python",
   "name": "python",
   "nbconvert_exporter": "python",
   "pygments_lexer": "ipython3",
   "version": "3.9.9"
  }
 },
 "nbformat": 4,
 "nbformat_minor": 5
}
