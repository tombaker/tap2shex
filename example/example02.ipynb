{
 "cells": [
  {
   "cell_type": "markdown",
   "id": "7eb39253",
   "metadata": {},
   "source": [
    "### 1. JSON output from dctap"
   ]
  },
  {
   "cell_type": "code",
   "execution_count": 4,
   "id": "7b0b705f",
   "metadata": {
    "ExecuteTime": {
     "end_time": "2022-05-22T08:43:12.617647Z",
     "start_time": "2022-05-22T08:43:12.607448Z"
    }
   },
   "outputs": [
    {
     "name": "stdout",
     "output_type": "stream",
     "text": [
      "{\n",
      "    \"namespaces\": {\n",
      "        \"ex\": \"http://ex.example/#\",\n",
      "        \"xsd\": \"http://www.w3.org/2001/XMLSchema#\",\n",
      "        \"school\": \"http://school.example/#\",\n",
      "        \"foaf\": \"http://xmlns.com/foaf/0.1/\"\n",
      "    },\n",
      "    \"shapes\": [\n",
      "        {\n",
      "            \"shapeID\": \"school:Enrollee\",\n",
      "            \"statement_templates\": [\n",
      "                {\n",
      "                    \"min\": \"1\",\n",
      "                    \"max\": \"2\",\n",
      "                    \"propertyID\": \"ex:hasGuardian\",\n",
      "                    \"valueNodeType\": \"iri\"\n",
      "                },\n",
      "                {\n",
      "                    \"MinInclusive\": \"13\",\n",
      "                    \"MaxInclusivemax\": \"20\",\n",
      "                    \"propertyID\": \"foaf:age\",\n",
      "                    \"valueDataType\": \"xsd:integer\",\n",
      "                }\n",
      "            ],\n",
      "        }\n",
      "    ]\n",
      "}\n"
     ]
    }
   ],
   "source": [
    "import json\n",
    "ap = Path('example02.json').read_text(encoding=\"UTF-8\")\n",
    "for line in ap.splitlines():\n",
    "  print(line)"
   ]
  },
  {
   "cell_type": "code",
   "execution_count": 5,
   "id": "363e4caa",
   "metadata": {
    "ExecuteTime": {
     "end_time": "2022-05-22T08:43:21.379622Z",
     "start_time": "2022-05-22T08:43:21.372285Z"
    }
   },
   "outputs": [
    {
     "name": "stdout",
     "output_type": "stream",
     "text": [
      "shex_jinja = \"\"\"\n",
      "{%- for prefix, uri in namespaces.items() %}\n",
      "PREFIX {{prefix}}: <{{uri}}>\n",
      "{%- endfor %}\n",
      "BASE <http://purl.org/yama/example/mybook/v021/#>\n",
      "\n",
      "{%- for shape in shapes %}\n",
      "<{{shape.shapeID}}> {\n",
      "  {%- for statement in shape.statements%}\n",
      "  {{statement.property}} @<{{statement.statementID}}> { {{statement.minOccur}},{{statement.maxOccur}} };\n",
      "  {%- endfor %}\n",
      "}\n",
      "{%- endfor %}\n",
      "\"\"\"\n"
     ]
    }
   ],
   "source": [
    "\"\"\"\n",
    "ShEx template in Jinja2.\n",
    "\"\"\"\n",
    "shex_jinja = Path('example02.jinja').read_text(encoding=\"UTF-8\")\n",
    "for line in shex_jinja.splitlines():\n",
    "   print(line)"
   ]
  },
  {
   "cell_type": "markdown",
   "id": "5d059302",
   "metadata": {},
   "source": [
    "### 3. Render ShExC Template with Jinja2"
   ]
  },
  {
   "cell_type": "code",
   "execution_count": 6,
   "id": "bc9d1c53",
   "metadata": {
    "ExecuteTime": {
     "end_time": "2022-05-22T08:44:35.422989Z",
     "start_time": "2022-05-22T08:44:35.348122Z"
    }
   },
   "outputs": [
    {
     "ename": "ValueError",
     "evalue": "dictionary update sequence element #0 has length 1; 2 is required",
     "output_type": "error",
     "traceback": [
      "\u001b[0;31m---------------------------------------------------------------------------\u001b[0m",
      "\u001b[0;31mValueError\u001b[0m                                Traceback (most recent call last)",
      "\u001b[0;32m<ipython-input-6-35714143427f>\u001b[0m in \u001b[0;36m<module>\u001b[0;34m\u001b[0m\n\u001b[1;32m      1\u001b[0m \u001b[0;32mfrom\u001b[0m \u001b[0mjinja2\u001b[0m \u001b[0;32mimport\u001b[0m \u001b[0mTemplate\u001b[0m\u001b[0;34m\u001b[0m\u001b[0;34m\u001b[0m\u001b[0m\n\u001b[1;32m      2\u001b[0m \u001b[0mtemplate\u001b[0m \u001b[0;34m=\u001b[0m \u001b[0mTemplate\u001b[0m\u001b[0;34m(\u001b[0m\u001b[0mshex_jinja\u001b[0m\u001b[0;34m)\u001b[0m\u001b[0;34m\u001b[0m\u001b[0;34m\u001b[0m\u001b[0m\n\u001b[0;32m----> 3\u001b[0;31m \u001b[0mshexc_output\u001b[0m \u001b[0;34m=\u001b[0m \u001b[0mtemplate\u001b[0m\u001b[0;34m.\u001b[0m\u001b[0mrender\u001b[0m\u001b[0;34m(\u001b[0m\u001b[0map\u001b[0m\u001b[0;34m)\u001b[0m\u001b[0;34m\u001b[0m\u001b[0;34m\u001b[0m\u001b[0m\n\u001b[0m\u001b[1;32m      4\u001b[0m \u001b[0mprint\u001b[0m\u001b[0;34m(\u001b[0m\u001b[0mshexc_output\u001b[0m\u001b[0;34m)\u001b[0m\u001b[0;34m\u001b[0m\u001b[0;34m\u001b[0m\u001b[0m\n",
      "\u001b[0;32m~/bitbucket/venvs/dctapenv/lib/python3.9/site-packages/jinja2/environment.py\u001b[0m in \u001b[0;36mrender\u001b[0;34m(self, *args, **kwargs)\u001b[0m\n\u001b[1;32m   1084\u001b[0m         \u001b[0mThis\u001b[0m \u001b[0mwill\u001b[0m \u001b[0;32mreturn\u001b[0m \u001b[0mthe\u001b[0m \u001b[0mrendered\u001b[0m \u001b[0mtemplate\u001b[0m \u001b[0;32mas\u001b[0m \u001b[0municode\u001b[0m \u001b[0mstring\u001b[0m\u001b[0;34m.\u001b[0m\u001b[0;34m\u001b[0m\u001b[0;34m\u001b[0m\u001b[0m\n\u001b[1;32m   1085\u001b[0m         \"\"\"\n\u001b[0;32m-> 1086\u001b[0;31m         \u001b[0mvars\u001b[0m \u001b[0;34m=\u001b[0m \u001b[0mdict\u001b[0m\u001b[0;34m(\u001b[0m\u001b[0;34m*\u001b[0m\u001b[0margs\u001b[0m\u001b[0;34m,\u001b[0m \u001b[0;34m**\u001b[0m\u001b[0mkwargs\u001b[0m\u001b[0;34m)\u001b[0m\u001b[0;34m\u001b[0m\u001b[0;34m\u001b[0m\u001b[0m\n\u001b[0m\u001b[1;32m   1087\u001b[0m         \u001b[0;32mtry\u001b[0m\u001b[0;34m:\u001b[0m\u001b[0;34m\u001b[0m\u001b[0;34m\u001b[0m\u001b[0m\n\u001b[1;32m   1088\u001b[0m             \u001b[0;32mreturn\u001b[0m \u001b[0mconcat\u001b[0m\u001b[0;34m(\u001b[0m\u001b[0mself\u001b[0m\u001b[0;34m.\u001b[0m\u001b[0mroot_render_func\u001b[0m\u001b[0;34m(\u001b[0m\u001b[0mself\u001b[0m\u001b[0;34m.\u001b[0m\u001b[0mnew_context\u001b[0m\u001b[0;34m(\u001b[0m\u001b[0mvars\u001b[0m\u001b[0;34m)\u001b[0m\u001b[0;34m)\u001b[0m\u001b[0;34m)\u001b[0m\u001b[0;34m\u001b[0m\u001b[0;34m\u001b[0m\u001b[0m\n",
      "\u001b[0;31mValueError\u001b[0m: dictionary update sequence element #0 has length 1; 2 is required"
     ]
    }
   ],
   "source": [
    "from jinja2 import Template\n",
    "template = Template(shex_jinja)\n",
    "shexc_output = template.render(ap)\n",
    "print(shexc_output)"
   ]
  },
  {
   "cell_type": "markdown",
   "id": "5e4642a8",
   "metadata": {},
   "source": [
    "### 5. Load the PyShExC library"
   ]
  },
  {
   "cell_type": "code",
   "execution_count": 5,
   "id": "9ecb4fb2",
   "metadata": {
    "ExecuteTime": {
     "end_time": "2022-05-22T06:58:31.223169Z",
     "start_time": "2022-05-22T06:58:30.724946Z"
    }
   },
   "outputs": [],
   "source": [
    "import pyshexc\n",
    "from pyshexc.parser_impl.generate_shexj import parse"
   ]
  },
  {
   "cell_type": "markdown",
   "id": "77d24f6e",
   "metadata": {},
   "source": [
    "### 6. Convert ShExC to ShExJ"
   ]
  },
  {
   "cell_type": "code",
   "execution_count": 6,
   "id": "c3d58ab8",
   "metadata": {
    "ExecuteTime": {
     "end_time": "2022-05-22T06:58:31.441253Z",
     "start_time": "2022-05-22T06:58:31.226368Z"
    }
   },
   "outputs": [
    {
     "name": "stdout",
     "output_type": "stream",
     "text": [
      "{\n",
      "    \"type\": \"Schema\",\n",
      "    \"shapes\": [\n",
      "        {\n",
      "            \"type\": \"Shape\",\n",
      "            \"id\": \"http://school.example/#Enrollee\",\n",
      "            \"expression\": {\n",
      "                \"type\": \"EachOf\",\n",
      "                \"expressions\": [\n",
      "                    {\n",
      "                        \"type\": \"TripleConstraint\",\n",
      "                        \"predicate\": \"http://ex.example/#hasGuardian\",\n",
      "                        \"valueExpr\": {\n",
      "                            \"type\": \"NodeConstraint\",\n",
      "                            \"nodeKind\": \"iri\"\n",
      "                        },\n",
      "                        \"min\": 1,\n",
      "                        \"max\": 2\n",
      "                    },\n",
      "                    {\n",
      "                        \"type\": \"TripleConstraint\",\n",
      "                        \"predicate\": \"http://xmlns.com/foaf/0.1/age\",\n",
      "                        \"valueExpr\": {\n",
      "                            \"type\": \"NodeConstraint\",\n",
      "                            \"datatype\": \"http://www.w3.org/2001/XMLSchema#integer\",\n",
      "                            \"mininclusive\": 13\n",
      "                        }\n",
      "                    }\n",
      "                ]\n",
      "            }\n",
      "        }\n",
      "    ]\n",
      "}\n"
     ]
    }
   ],
   "source": [
    "import json\n",
    "json_ap=parse(shexc_output)._as_json\n",
    "parsed = json.loads(json_ap)\n",
    "print(json.dumps(parsed, indent=4, sort_keys=False))"
   ]
  }
 ],
 "metadata": {
  "kernelspec": {
   "display_name": "dctapenv",
   "language": "python",
   "name": "dctapenv"
  },
  "language_info": {
   "codemirror_mode": {
    "name": "ipython",
    "version": 3
   },
   "file_extension": ".py",
   "mimetype": "text/x-python",
   "name": "python",
   "nbconvert_exporter": "python",
   "pygments_lexer": "ipython3",
   "version": "3.9.9"
  }
 },
 "nbformat": 4,
 "nbformat_minor": 5
}
