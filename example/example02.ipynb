{
 "cells": [
  {
   "cell_type": "code",
   "execution_count": 4,
   "id": "82d992b4",
   "metadata": {
    "ExecuteTime": {
     "end_time": "2022-05-22T06:40:21.132791Z",
     "start_time": "2022-05-22T06:40:21.113720Z"
    }
   },
   "outputs": [
    {
     "name": "stdout",
     "output_type": "stream",
     "text": [
      "{\n",
      "    \"namespaces\": {\n",
      "        \"ex\": \"http://ex.example/#\",\n",
      "        \"foaf\": \"http://xmlns.com/foaf/0.1/\",\n",
      "        \"school\": \"http://school.example/#\",\n",
      "        \"xsd\": \"http://www.w3.org/2001/XMLSchema#\"\n",
      "    },\n",
      "    \"shapes\": [\n",
      "        {\n",
      "        \"shapeID\": \"school:Enrollee\",\n",
      "        \"statement_templates\": [\n",
      "                {\n",
      "                    \"max\": \"2\",\n",
      "                    \"min\": \"1\",\n",
      "                    \"propertyID\": \"ex:hasGuardian\",\n",
      "                    \"valueNodeType\": \"iri\"\n",
      "                },\n",
      "                {\n",
      "                    \"MaxInclusive\": \"20\",\n",
      "                    \"MinInclusive\": \"13\",\n",
      "                    \"propertyID\": \"foaf:age\",\n",
      "                    \"valueDataType\": \"xsd:integer\"\n",
      "                }\n",
      "            ]\n",
      "        }\n",
      "    ]\n",
      "}\n"
     ]
    }
   ],
   "source": [
    "\"\"\"\n",
    "JSON output basically \"from dctap\", but tweaked.\n",
    "\"\"\"\n",
    "ap = Path('example02.json').read_text(encoding=\"UTF-8\")\n",
    "for line in ap.splitlines():\n",
    "   print(line)"
   ]
  },
  {
   "cell_type": "code",
   "execution_count": 7,
   "id": "c9a4c26b",
   "metadata": {
    "ExecuteTime": {
     "end_time": "2022-05-22T06:41:22.171037Z",
     "start_time": "2022-05-22T06:41:22.120923Z"
    }
   },
   "outputs": [
    {
     "name": "stdout",
     "output_type": "stream",
     "text": [
      "{%- for prefix, uri in namespaces.items() %}\n",
      "PREFIX {{prefix}}: <{{uri}}>\n",
      "{%- endfor %}\n",
      "BASE <http://purl.org/yama/example/mybook/v021/#>\n",
      "\n",
      "{%- for shape in shapes %}\n",
      "{{shape.shapeID}} {\n",
      "  {%- for statement in shape. statement_templates %}\n",
      "  {{statement.property}} {{statement.propertyID}} \n",
      "  {%- if statement.valueNodeType %} {{statement.valueNodeType|upper}}{% endif -%}\n",
      "  {%- if statement.valueDataType %} {{statement.valueDataType}}{% endif -%}\n",
      "  {%- if statement.min or statement.max %} { {{-statement.min-}}\n",
      "        {%- if statement.max -%}\n",
      "         ,{{statement.max}} \n",
      "        {%- endif -%} }\n",
      "  {%- endif -%}\n",
      "  {%- if statement.MaxInclusive %} MaxInclusive {{statement.MaxInclusive}} {%- endif -%}\n",
      "  {%- if statement.MinInclusive %} MinInclusive {{statement.MinInclusive}} {%- endif -%}\n",
      "  {%- if not loop.last -%} ;{%- endif -%}\n",
      "  {%- endfor %}\n",
      "}\n",
      "{%- endfor %}\n"
     ]
    }
   ],
   "source": [
    "\"\"\"\n",
    "ShEx template in Jinja2.\n",
    "\"\"\"\n",
    "shex_jinja = Path('example02.jinja').read_text(encoding=\"UTF-8\")\n",
    "for line in shex_jinja.splitlines():\n",
    "   print(line)"
   ]
  },
  {
   "cell_type": "code",
   "execution_count": 3,
   "id": "7de86bea",
   "metadata": {
    "ExecuteTime": {
     "end_time": "2022-05-22T06:26:25.348132Z",
     "start_time": "2022-05-22T06:26:24.786193Z"
    }
   },
   "outputs": [
    {
     "ename": "ValueError",
     "evalue": "dictionary update sequence element #0 has length 1; 2 is required",
     "output_type": "error",
     "traceback": [
      "\u001b[0;31m---------------------------------------------------------------------------\u001b[0m",
      "\u001b[0;31mValueError\u001b[0m                                Traceback (most recent call last)",
      "\u001b[0;32m<ipython-input-3-35714143427f>\u001b[0m in \u001b[0;36m<module>\u001b[0;34m\u001b[0m\n\u001b[1;32m      1\u001b[0m \u001b[0;32mfrom\u001b[0m \u001b[0mjinja2\u001b[0m \u001b[0;32mimport\u001b[0m \u001b[0mTemplate\u001b[0m\u001b[0;34m\u001b[0m\u001b[0;34m\u001b[0m\u001b[0m\n\u001b[1;32m      2\u001b[0m \u001b[0mtemplate\u001b[0m \u001b[0;34m=\u001b[0m \u001b[0mTemplate\u001b[0m\u001b[0;34m(\u001b[0m\u001b[0mshex_jinja\u001b[0m\u001b[0;34m)\u001b[0m\u001b[0;34m\u001b[0m\u001b[0;34m\u001b[0m\u001b[0m\n\u001b[0;32m----> 3\u001b[0;31m \u001b[0mshexc_output\u001b[0m \u001b[0;34m=\u001b[0m \u001b[0mtemplate\u001b[0m\u001b[0;34m.\u001b[0m\u001b[0mrender\u001b[0m\u001b[0;34m(\u001b[0m\u001b[0map\u001b[0m\u001b[0;34m)\u001b[0m\u001b[0;34m\u001b[0m\u001b[0;34m\u001b[0m\u001b[0m\n\u001b[0m\u001b[1;32m      4\u001b[0m \u001b[0mprint\u001b[0m\u001b[0;34m(\u001b[0m\u001b[0mshexc_output\u001b[0m\u001b[0;34m)\u001b[0m\u001b[0;34m\u001b[0m\u001b[0;34m\u001b[0m\u001b[0m\n",
      "\u001b[0;32m~/bitbucket/venvs/dctapenv/lib/python3.9/site-packages/jinja2/environment.py\u001b[0m in \u001b[0;36mrender\u001b[0;34m(self, *args, **kwargs)\u001b[0m\n\u001b[1;32m   1084\u001b[0m         \u001b[0mThis\u001b[0m \u001b[0mwill\u001b[0m \u001b[0;32mreturn\u001b[0m \u001b[0mthe\u001b[0m \u001b[0mrendered\u001b[0m \u001b[0mtemplate\u001b[0m \u001b[0;32mas\u001b[0m \u001b[0municode\u001b[0m \u001b[0mstring\u001b[0m\u001b[0;34m.\u001b[0m\u001b[0;34m\u001b[0m\u001b[0;34m\u001b[0m\u001b[0m\n\u001b[1;32m   1085\u001b[0m         \"\"\"\n\u001b[0;32m-> 1086\u001b[0;31m         \u001b[0mvars\u001b[0m \u001b[0;34m=\u001b[0m \u001b[0mdict\u001b[0m\u001b[0;34m(\u001b[0m\u001b[0;34m*\u001b[0m\u001b[0margs\u001b[0m\u001b[0;34m,\u001b[0m \u001b[0;34m**\u001b[0m\u001b[0mkwargs\u001b[0m\u001b[0;34m)\u001b[0m\u001b[0;34m\u001b[0m\u001b[0;34m\u001b[0m\u001b[0m\n\u001b[0m\u001b[1;32m   1087\u001b[0m         \u001b[0;32mtry\u001b[0m\u001b[0;34m:\u001b[0m\u001b[0;34m\u001b[0m\u001b[0;34m\u001b[0m\u001b[0m\n\u001b[1;32m   1088\u001b[0m             \u001b[0;32mreturn\u001b[0m \u001b[0mconcat\u001b[0m\u001b[0;34m(\u001b[0m\u001b[0mself\u001b[0m\u001b[0;34m.\u001b[0m\u001b[0mroot_render_func\u001b[0m\u001b[0;34m(\u001b[0m\u001b[0mself\u001b[0m\u001b[0;34m.\u001b[0m\u001b[0mnew_context\u001b[0m\u001b[0;34m(\u001b[0m\u001b[0mvars\u001b[0m\u001b[0;34m)\u001b[0m\u001b[0;34m)\u001b[0m\u001b[0;34m)\u001b[0m\u001b[0;34m\u001b[0m\u001b[0;34m\u001b[0m\u001b[0m\n",
      "\u001b[0;31mValueError\u001b[0m: dictionary update sequence element #0 has length 1; 2 is required"
     ]
    }
   ],
   "source": [
    "from jinja2 import Template\n",
    "template = Template(shex_jinja)\n",
    "shexc_output = template.render(ap)\n",
    "print(shexc_output)"
   ]
  },
  {
   "cell_type": "code",
   "execution_count": null,
   "id": "6e812d52",
   "metadata": {},
   "outputs": [],
   "source": []
  }
 ],
 "metadata": {
  "kernelspec": {
   "display_name": "dctapenv",
   "language": "python",
   "name": "dctapenv"
  },
  "language_info": {
   "codemirror_mode": {
    "name": "ipython",
    "version": 3
   },
   "file_extension": ".py",
   "mimetype": "text/x-python",
   "name": "python",
   "nbconvert_exporter": "python",
   "pygments_lexer": "ipython3",
   "version": "3.9.9"
  }
 },
 "nbformat": 4,
 "nbformat_minor": 5
}
