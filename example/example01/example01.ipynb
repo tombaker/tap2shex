{
 "cells": [
  {
   "cell_type": "markdown",
   "id": "84e3eeda",
   "metadata": {},
   "source": [
    "### 1. JSON output of \"dctap\""
   ]
  },
  {
   "cell_type": "code",
   "execution_count": 1,
   "id": "2f62ed38",
   "metadata": {
    "ExecuteTime": {
     "end_time": "2022-05-22T10:54:16.471271Z",
     "start_time": "2022-05-22T10:54:16.464876Z"
    }
   },
   "outputs": [],
   "source": [
    "import json\n",
    "json_string = Path('example01.json').read_text(encoding=\"UTF-8\")\n",
    "ap = json.loads(json_string)"
   ]
  },
  {
   "cell_type": "markdown",
   "id": "7eb39253",
   "metadata": {},
   "source": [
    "### 2. ShExC Template in Jinja2"
   ]
  },
  {
   "cell_type": "code",
   "execution_count": 2,
   "id": "7b0b705f",
   "metadata": {
    "ExecuteTime": {
     "end_time": "2022-05-22T10:54:16.486098Z",
     "start_time": "2022-05-22T10:54:16.477223Z"
    }
   },
   "outputs": [
    {
     "name": "stdout",
     "output_type": "stream",
     "text": [
      "{%- for prefix, uri in namespaces.items() %}\n",
      "PREFIX {{prefix}}: <{{uri}}>\n",
      "{%- endfor %}\n",
      "BASE <http://purl.org/yama/example/mybook/v021/#>\n",
      "\n",
      "{%- for shape in shapes %}\n",
      "{{shape.shapeID}} {\n",
      "  {%- for statement in shape. statement_templates %}\n",
      "  {{statement.property}} {{statement.propertyID}} \n",
      "  {%- if statement.valueNodeType %} {{statement.valueNodeType|upper}}{% endif -%}\n",
      "  {%- if statement.valueDataType %} {{statement.valueDataType}}{% endif -%}\n",
      "  {%- if statement.min or statement.max %} { {{-statement.min-}}\n",
      "        {%- if statement.max -%}\n",
      "         ,{{statement.max}} \n",
      "        {%- endif -%} }\n",
      "  {%- endif -%}\n",
      "  {%- if statement.MaxInclusive %} MaxInclusive {{statement.MaxInclusive}} {%- endif -%}\n",
      "  {%- if statement.MinInclusive %} MinInclusive {{statement.MinInclusive}} {%- endif -%}\n",
      "  {%- if not loop.last -%} ;{%- endif -%}\n",
      "  {%- endfor %}\n",
      "}\n",
      "{%- endfor %}\n"
     ]
    }
   ],
   "source": [
    "\"\"\"\n",
    "ShEx template in Jinja2.\n",
    "\"\"\"\n",
    "shex_jinja = open('example01.jinja').read()\n",
    "for line in shex_jinja.splitlines():\n",
    "   print(line)"
   ]
  },
  {
   "cell_type": "markdown",
   "id": "f8eee19f",
   "metadata": {},
   "source": [
    "### 3. Then, in order to get the following ShExC output:\n",
    "\n",
    "```\n",
    "PREFIX ex: <http://ex.example/#>\n",
    "PREFIX xsd: <http://www.w3.org/2001/XMLSchema#>\n",
    "PREFIX school: <http://school.example/#>\n",
    "PREFIX foaf: <http://xmlns.com/foaf/0.1/>\n",
    "\n",
    "school:Enrollee {\n",
    "  foaf:age xsd:integer MinInclusive 13 MaxInclusive 20 ;\n",
    "  ex:hasGuardian IRI {1,2}\n",
    "}\n",
    "```"
   ]
  },
  {
   "cell_type": "markdown",
   "id": "5d059302",
   "metadata": {},
   "source": [
    "### 4. Render the ShExC Template with Jinja2"
   ]
  },
  {
   "cell_type": "code",
   "execution_count": 3,
   "id": "bc9d1c53",
   "metadata": {
    "ExecuteTime": {
     "end_time": "2022-05-22T10:54:16.564859Z",
     "start_time": "2022-05-22T10:54:16.491050Z"
    }
   },
   "outputs": [
    {
     "name": "stdout",
     "output_type": "stream",
     "text": [
      "\n",
      "PREFIX ex: <http://ex.example/#>\n",
      "PREFIX xsd: <http://www.w3.org/2001/XMLSchema#>\n",
      "PREFIX school: <http://school.example/#>\n",
      "PREFIX foaf: <http://xmlns.com/foaf/0.1/>\n",
      "BASE <http://purl.org/yama/example/mybook/v021/#>\n",
      "school:Enrollee {\n",
      "   ex:hasGuardian IRI {1,2};\n",
      "   foaf:age xsd:integer MaxInclusive 20 MinInclusive 13\n",
      "}\n"
     ]
    }
   ],
   "source": [
    "from jinja2 import Template\n",
    "template = Template(shex_jinja)\n",
    "shexc_output = template.render(ap)\n",
    "print(shexc_output)"
   ]
  },
  {
   "cell_type": "markdown",
   "id": "77d24f6e",
   "metadata": {},
   "source": [
    "### 5. Convert ShExC to ShExJ"
   ]
  },
  {
   "cell_type": "code",
   "execution_count": 4,
   "id": "c3d58ab8",
   "metadata": {
    "ExecuteTime": {
     "end_time": "2022-05-22T10:54:17.115937Z",
     "start_time": "2022-05-22T10:54:16.573053Z"
    }
   },
   "outputs": [
    {
     "name": "stdout",
     "output_type": "stream",
     "text": [
      "{\n",
      "    \"type\": \"Schema\",\n",
      "    \"shapes\": [\n",
      "        {\n",
      "            \"type\": \"Shape\",\n",
      "            \"id\": \"http://school.example/#Enrollee\",\n",
      "            \"expression\": {\n",
      "                \"type\": \"EachOf\",\n",
      "                \"expressions\": [\n",
      "                    {\n",
      "                        \"type\": \"TripleConstraint\",\n",
      "                        \"predicate\": \"http://ex.example/#hasGuardian\",\n",
      "                        \"valueExpr\": {\n",
      "                            \"type\": \"NodeConstraint\",\n",
      "                            \"nodeKind\": \"iri\"\n",
      "                        },\n",
      "                        \"min\": 1,\n",
      "                        \"max\": 2\n",
      "                    },\n",
      "                    {\n",
      "                        \"type\": \"TripleConstraint\",\n",
      "                        \"predicate\": \"http://xmlns.com/foaf/0.1/age\",\n",
      "                        \"valueExpr\": {\n",
      "                            \"type\": \"NodeConstraint\",\n",
      "                            \"datatype\": \"http://www.w3.org/2001/XMLSchema#integer\",\n",
      "                            \"maxinclusive\": 20,\n",
      "                            \"mininclusive\": 13\n",
      "                        }\n",
      "                    }\n",
      "                ]\n",
      "            }\n",
      "        }\n",
      "    ]\n",
      "}\n"
     ]
    }
   ],
   "source": [
    "import json\n",
    "from pyshexc.parser_impl.generate_shexj import parse\n",
    "json_ap = parse(shexc_output)._as_json\n",
    "parsed = json.loads(json_ap)\n",
    "print(json.dumps(parsed, indent=4, sort_keys=False))"
   ]
  }
 ],
 "metadata": {
  "kernelspec": {
   "display_name": "dctapenv",
   "language": "python",
   "name": "dctapenv"
  },
  "language_info": {
   "codemirror_mode": {
    "name": "ipython",
    "version": 3
   },
   "file_extension": ".py",
   "mimetype": "text/x-python",
   "name": "python",
   "nbconvert_exporter": "python",
   "pygments_lexer": "ipython3",
   "version": "3.9.9"
  }
 },
 "nbformat": 4,
 "nbformat_minor": 5
}
